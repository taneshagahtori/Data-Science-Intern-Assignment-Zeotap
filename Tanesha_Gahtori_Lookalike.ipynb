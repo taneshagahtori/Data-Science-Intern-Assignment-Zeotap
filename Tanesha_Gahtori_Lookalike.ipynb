{
  "nbformat": 4,
  "nbformat_minor": 0,
  "metadata": {
    "colab": {
      "provenance": []
    },
    "kernelspec": {
      "name": "python3",
      "display_name": "Python 3"
    },
    "language_info": {
      "name": "python"
    }
  },
  "cells": [
    {
      "cell_type": "code",
      "source": [
        "import pandas as pd\n",
        "from sklearn.metrics.pairwise import cosine_similarity\n",
        "from sklearn.preprocessing import StandardScaler"
      ],
      "metadata": {
        "id": "4M0q4iSdqsVx"
      },
      "execution_count": 18,
      "outputs": []
    },
    {
      "cell_type": "code",
      "source": [
        "customers_file = 'Customers.csv'\n",
        "products_file = 'Products.csv'\n",
        "transactions_file = 'Transactions.csv'"
      ],
      "metadata": {
        "id": "UKevq5t4rnpF"
      },
      "execution_count": 19,
      "outputs": []
    },
    {
      "cell_type": "code",
      "source": [
        "customers = pd.read_csv(customers_file)\n",
        "products = pd.read_csv(products_file)\n",
        "transactions = pd.read_csv(transactions_file)"
      ],
      "metadata": {
        "id": "q7OaU3jNrrR6"
      },
      "execution_count": 20,
      "outputs": []
    },
    {
      "cell_type": "code",
      "source": [
        "customers['SignupDate'] = pd.to_datetime(customers['SignupDate'], errors='coerce')\n",
        "transactions['TransactionDate'] = pd.to_datetime(transactions['TransactionDate'], errors='coerce')\n"
      ],
      "metadata": {
        "id": "DcI7gogOryw8"
      },
      "execution_count": 21,
      "outputs": []
    },
    {
      "cell_type": "code",
      "source": [
        "merged_data = transactions.merge(customers, on='CustomerID', how='left').merge(products, on='ProductID', how='left')"
      ],
      "metadata": {
        "id": "WVYw4Ru1rzHZ"
      },
      "execution_count": 22,
      "outputs": []
    },
    {
      "cell_type": "code",
      "source": [
        "# Feature Engineering\n",
        "customer_features = merged_data.groupby('CustomerID').agg(\n",
        "    total_spending=('TotalValue', 'sum'),\n",
        "    avg_spending=('TotalValue', 'mean'),\n",
        "    num_transactions=('TransactionID', 'count'),\n",
        "    unique_products=('ProductID', 'nunique'),\n",
        "    region=('Region', 'first')\n",
        ").reset_index()"
      ],
      "metadata": {
        "id": "-_d6zO3Wr38t"
      },
      "execution_count": 23,
      "outputs": []
    },
    {
      "cell_type": "code",
      "source": [
        "customer_features = pd.get_dummies(customer_features, columns=['region'], drop_first=True)"
      ],
      "metadata": {
        "id": "8Yor3gFwr8nG"
      },
      "execution_count": 24,
      "outputs": []
    },
    {
      "cell_type": "code",
      "source": [
        "scaler = StandardScaler()\n",
        "numeric_features = ['total_spending', 'avg_spending', 'num_transactions', 'unique_products']\n",
        "customer_features[numeric_features] = scaler.fit_transform(customer_features[numeric_features])\n"
      ],
      "metadata": {
        "id": "EodEee8xr8pq"
      },
      "execution_count": 25,
      "outputs": []
    },
    {
      "cell_type": "code",
      "source": [
        "similarity_matrix = cosine_similarity(customer_features[numeric_features])"
      ],
      "metadata": {
        "id": "IB6IZd1qsCNp"
      },
      "execution_count": 26,
      "outputs": []
    },
    {
      "cell_type": "code",
      "source": [
        "#  Generate Lookalike Recommendations\n",
        "lookalike_map = {}\n",
        "\n",
        "customer_ids = customer_features['CustomerID'][:20]\n",
        "\n",
        "for i, cust_id in enumerate(customer_ids):\n",
        "\n",
        "    customer_similarities = list(enumerate(similarity_matrix[i]))\n",
        "\n",
        "    customer_similarities = sorted(customer_similarities, key=lambda x: x[1], reverse=True)[1:4]\n",
        "\n",
        "    lookalike_map[cust_id] = [\n",
        "        (customer_features['CustomerID'][j], round(score, 4)) for j, score in customer_similarities\n",
        "    ]\n"
      ],
      "metadata": {
        "id": "9DC5NO7dsGwz"
      },
      "execution_count": 27,
      "outputs": []
    },
    {
      "cell_type": "code",
      "source": [
        "lookalike_df = pd.DataFrame([\n",
        "    {'cust_id': cust, 'lookalikes': str(lookalike_map[cust])} for cust in lookalike_map\n",
        "])\n",
        "\n",
        "lookalike_csv_path = 'Lookalike.csv'\n",
        "lookalike_df.to_csv(lookalike_csv_path, index=False)"
      ],
      "metadata": {
        "id": "TehrprmcsGzP"
      },
      "execution_count": 28,
      "outputs": []
    },
    {
      "cell_type": "code",
      "source": [
        "print(f\"Lookalike recommendations saved to {lookalike_csv_path}\")\n"
      ],
      "metadata": {
        "colab": {
          "base_uri": "https://localhost:8080/"
        },
        "id": "ZzsCfjhPqu5i",
        "outputId": "181da568-8bf7-4814-8f02-b55032acc520"
      },
      "execution_count": 29,
      "outputs": [
        {
          "output_type": "stream",
          "name": "stdout",
          "text": [
            "Lookalike recommendations saved to Lookalike.csv\n"
          ]
        }
      ]
    }
  ]
}